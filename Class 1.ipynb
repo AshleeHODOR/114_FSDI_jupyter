{
 "cells": [
  {
   "cell_type": "code",
   "execution_count": 1,
   "id": "ddcb7578-f734-4f23-b859-5833064526d0",
   "metadata": {},
   "outputs": [
    {
     "name": "stdout",
     "output_type": "stream",
     "text": [
      "H\n",
      "e\n",
      "l\n",
      "l\n",
      "o\n",
      ",\n",
      " \n",
      "w\n",
      "o\n",
      "r\n",
      "l\n",
      "d\n",
      "!\n"
     ]
    }
   ],
   "source": [
    "for char in \"Hello, world!\":\n",
    "    print(char)\n",
    "\n",
    "#press shift+enter\n"
   ]
  },
  {
   "cell_type": "markdown",
   "id": "e63950b7-0e17-4db4-b5c4-e57e697ea5b4",
   "metadata": {},
   "source": [
    "# Problem 1\n",
    "\n",
    "## Anagram Check\n",
    "Given 2 strings as parameters to your function (anagram_check), check that these are anagrams of each other and return \"true\" if they and 'False' otherwise. \n",
    "\n",
    "### Criteria\n",
    "Two strings are said to be anagrams of each other if all the criteria below are met:\n",
    "1. They must contain the same letters, the same number of times.\n",
    "2. They must contain the same total number of letters.\n",
    "\n",
    "...\n",
    "examples:\n",
    "Cars and scar\n",
    "star and rats\n",
    "earth and heart\n",
    "arms and mars\n",
    "ect\n",
    "... \n"
   ]
  },
  {
   "cell_type": "code",
   "execution_count": null,
   "id": "e676b95a-b022-44f6-bcce-801654d5e792",
   "metadata": {},
   "outputs": [],
   "source": [
    "# Pseudocode -> Not real code (intended to help us not get stuck on the programming language syntax) \n",
    "\n",
    "# define new functions \"anagram_check\" with parameters: s1, and s2 (of type string):\n",
    "    # s1 = s1 without spaces in lower case\n",
    "    # s2 = s2 without spaces and in lower case\n",
    "    # if the length of s1 is not equal to the length of s2:\n",
    "        # return False\n",
    "    # d1 = new dictionary\n",
    "    # d2 = new dictionary\n",
    "    # for each \"number\" in the range between 0 and the length of s1:\n",
    "        # if the letter at position \"number\" in s1 is not in d1:\n",
    "            # create new entry in d1 for the letter at position \"number\" and set the value to 1\n",
    "        # otherwise:\n",
    "            # add 1 to the value associated with the letter at position \"number\" in s1 to d1\n",
    "        # if the letter at position \"number\" in s2 is not in d2:\n",
    "            # create a new entry in d2 for the letter at position \"number\" and set the value to 1\n",
    "        # otherwise\n",
    "            # add 1 to the value associated with the letter at position \"number\" in s2 to d2\n",
    "    # if d1 == d2:\n",
    "        #return True\n",
    "    # otherwise\n",
    "        # return False"
   ]
  },
  {
   "cell_type": "code",
   "execution_count": null,
   "id": "940d9720-4fd8-4d9f-bdf7-b93521de8353",
   "metadata": {},
   "outputs": [],
   "source": [
    "\n",
    "def anagram_check(s1, s2):\n",
    "    s1 = s1.replace(\" \", \"\").lower()\n",
    "    s2 = s2.replace(\" \", \"\").lower()\n",
    "    if len(s1) != len(s2):\n",
    "        return False\n",
    "    d1 = {}\n",
    "    d2 = {}\n",
    "    for number in range(len(s1)):\n",
    "        if s1[number] not in d1:\n",
    "            d1[s1[number]] = 1 \n",
    "        else:\n",
    "            d1 [s1[number]] += 1 \n",
    "        if: s2[number] not in d2:\n",
    "            d2[s2[number]] = 1\n",
    "        else:\n",
    "            d2[s2[number]] += 1\n",
    "        return d1 == d2\n",
    "        "
   ]
  },
  {
   "cell_type": "code",
   "execution_count": 5,
   "id": "3aa10c55-4f57-4c81-b80c-8e2863044c4d",
   "metadata": {
    "scrolled": true
   },
   "outputs": [
    {
     "ename": "NameError",
     "evalue": "name 'anagram_check' is not defined",
     "output_type": "error",
     "traceback": [
      "\u001b[31m---------------------------------------------------------------------------\u001b[39m",
      "\u001b[31mNameError\u001b[39m                                 Traceback (most recent call last)",
      "\u001b[36mCell\u001b[39m\u001b[36m \u001b[39m\u001b[32mIn[5]\u001b[39m\u001b[32m, line 1\u001b[39m\n\u001b[32m----> \u001b[39m\u001b[32m1\u001b[39m \u001b[43managram_check\u001b[49m(\u001b[33m\"\u001b[39m\u001b[33mI am Lord Voldemort\u001b[39m\u001b[33m\"\u001b[39m, \u001b[33m\"\u001b[39m\u001b[33mTom Marvolo Riddle\u001b[39m\u001b[33m\"\u001b[39m) \n",
      "\u001b[31mNameError\u001b[39m: name 'anagram_check' is not defined"
     ]
    }
   ],
   "source": [
    "anagram_check(\"I am Lord Voldemort\", \"Tom Marvolo Riddle\") "
   ]
  },
  {
   "cell_type": "code",
   "execution_count": null,
   "id": "56ffd0a5-1706-4ad5-b3fe-be5691931bfa",
   "metadata": {},
   "outputs": [],
   "source": []
  }
 ],
 "metadata": {
  "kernelspec": {
   "display_name": "Python 3 (ipykernel)",
   "language": "python",
   "name": "python3"
  },
  "language_info": {
   "codemirror_mode": {
    "name": "ipython",
    "version": 3
   },
   "file_extension": ".py",
   "mimetype": "text/x-python",
   "name": "python",
   "nbconvert_exporter": "python",
   "pygments_lexer": "ipython3",
   "version": "3.12.3"
  }
 },
 "nbformat": 4,
 "nbformat_minor": 5
}
