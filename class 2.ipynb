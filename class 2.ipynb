{
 "cells": [
  {
   "cell_type": "code",
   "execution_count": 7,
   "id": "8a7e2fb1-7aea-48fc-8493-22d2f5efa504",
   "metadata": {},
   "outputs": [
    {
     "ename": "SyntaxError",
     "evalue": "unterminated string literal (detected at line 11) (79624259.py, line 11)",
     "output_type": "error",
     "traceback": [
      "  \u001b[36mCell\u001b[39m\u001b[36m \u001b[39m\u001b[32mIn[7]\u001b[39m\u001b[32m, line 11\u001b[39m\n\u001b[31m    \u001b[39m\u001b[31mThe ordering principle is referred to as FIFO (first in, first out) or \"first come,\u001b[39m\n                                                                           ^\n\u001b[31mSyntaxError\u001b[39m\u001b[31m:\u001b[39m unterminated string literal (detected at line 11)\n"
     ]
    }
   ],
   "source": [
    "Stacks and Queues\n",
    "\n",
    "# Stack\n",
    "A stack is an ordered collection of elemnets where items are added and removed from one end \n",
    "commonly referred to as the \"top\". The ordering principle is referred to as \n",
    "LIFO ( last in, first out).\n",
    "\n",
    "# Queue\n",
    "A queue is an ordered collection of elements where items are added and removed from opposite \n",
    "ends, commonly referred to as the \"front\" and \"back\" or \"rear\" of the queue. \n",
    "The ordering principle is referred to as FIFO (first in, first out) or \"first come, \n",
    "first served\"."
   ]
  },
  {
   "cell_type": "code",
   "execution_count": 6,
   "id": "a034ef6d-ca73-4630-b57d-02965d91ef36",
   "metadata": {},
   "outputs": [],
   "source": [
    "# simplified Stack (relied on built-ins) \n",
    "\n",
    "class Stack:\n",
    "    def __init__(self):\n",
    "        self.items = [] \n",
    "\n",
    "    def push(self, element):\n",
    "        self.items.append(element)\n",
    "\n",
    "    def pop(self):\n",
    "        return self.items.pop()\n",
    "\n",
    "#nice to have methods\n",
    "\n",
    "    def peek(self):\n",
    "        return self.items[len(self.items)-1]\n",
    "\n",
    "    def size(self):\n",
    "        return len(self.items)\n",
    "\n",
    "    def is_empty(self):\n",
    "        return self.items == []\n"
   ]
  },
  {
   "cell_type": "code",
   "execution_count": 9,
   "id": "f2fdcea0-a270-4523-b0ce-c9bb0197dab7",
   "metadata": {},
   "outputs": [
    {
     "ename": "IndentationError",
     "evalue": "unindent does not match any outer indentation level (<string>, line 14)",
     "output_type": "error",
     "traceback": [
      "  \u001b[36mFile \u001b[39m\u001b[32m<string>:14\u001b[39m\n\u001b[31m    \u001b[39m\u001b[31mdef peek(self):\u001b[39m\n                   ^\n\u001b[31mIndentationError\u001b[39m\u001b[31m:\u001b[39m unindent does not match any outer indentation level\n"
     ]
    }
   ],
   "source": [
    "# Simplified Queue (relying on built-ins)\n",
    "\n",
    "class Queue:\n",
    "    def __init__(self):\n",
    "        self.items = []\n",
    "\n",
    "    def enqueue(self, element):\n",
    "        self.items.insert(0, element)\n",
    "\n",
    "    def dequeue(self):\n",
    "        return self.items.pop()\n",
    "\n",
    "#nice to have methods\n",
    "      def peek(self): \n",
    "        return self.items[len(self.items)-1]\n",
    "\n",
    "    def size(self):\n",
    "        return len(self.items)\n",
    "\n",
    "    def is_empty(self):\n",
    "        return self.items == []"
   ]
  },
  {
   "cell_type": "code",
   "execution_count": null,
   "id": "a7c81057-a752-4e4d-8fda-b7e23f8040dd",
   "metadata": {},
   "outputs": [],
   "source": [
    "# From scratch implementation of stack\n",
    "\n",
    "class StackII:\n",
    "    class __Node:\n",
    "        def __init__(self, datum):\n",
    "            self.data = datum\n",
    "            self.below = None\n",
    "\n",
    "    def __init__(self):\n",
    "        self.top = None\n",
    "        self.count = 0\n",
    "\n",
    "    def push(self, element):\n",
    "        new_node = self.__Node(element)\n",
    "        self.count += 1\n",
    "        #test the state of the stack (empty vs. not empty):\n",
    "        if not self.top:\n",
    "            self.top = new_node\n",
    "        else:\n",
    "            new_node.below = self.top\n",
    "            self.top = new_node\n",
    "    def pop(self):\n",
    "        if self.top:\n",
    "            self.count += 1\n",
    "            backup = self.top.data\n",
    "            self.top = self.top.below\n",
    "            return backup\n",
    "        raise IndexError(\"Stack is empty\")\n",
    "\n",
    "    # Nice to have methods\n",
    "    def peek(self):\n",
    "        if self.top:\n",
    "            return self.top.data\n",
    "        raise IndexError(\"Stack is empty\")\n",
    "\n",
    "    # def size(self):\n",
    "    #     count = 0\n",
    "    #     if self.top\n",
    "    #         current = self.top\n",
    "    #         while current:\n",
    "    #             count += 1\n",
    "    #             currnet = current.below\n",
    "    #     return count\n",
    "        \n",
    "    def is_empty(self):\n",
    "        return self.top == None\n"
   ]
  },
  {
   "cell_type": "code",
   "execution_count": null,
   "id": "3551363c-9d4b-49c0-9efe-3c3e2874b1f2",
   "metadata": {},
   "outputs": [],
   "source": [
    "# Problem 2\n",
    "\n",
    "Use the 'StackII' class above to invert a string. Create a function that does this. \n",
    "\n",
    "Examples:\n",
    "rafeal -> laefar\n",
    "rats -> star\n",
    "hello -> olleh\n",
    "123 -> 321\n",
    "\n",
    "Ashlee -> eelhsa\n",
    "Sheldon -> Nodlesh\n",
    "\n"
   ]
  },
  {
   "cell_type": "code",
   "execution_count": 13,
   "id": "240d8eab-1ba8-486e-8677-a6eb4b7f60b1",
   "metadata": {},
   "outputs": [],
   "source": [
    "# Criteria to consider asking questions about:\n",
    "# What is the unknown?\n",
    "# Are there any simliar problems you might be familiar with?\n",
    "# What is the data?\n",
    "# What are the conditions?\n",
    "\n",
    "# Assembly (Pseudocode) \n",
    "# define new function \"invert_str\" that recieves a mystring as a parameter:\n",
    "#     stack = new Stack\n",
    "#     for each letter in mystring:\n",
    "#         push that letter into our stack\n",
    "#     new_string = new empty string\n",
    "#     while stack is not empty:\n",
    "#         data = stack.pop()\n",
    "#         new_string = new_string + data\n",
    "#     return new_string\n",
    "\n",
    "\n",
    "def invert_str(mystring):\n",
    "    stack = StackII()\n",
    "    for char in mystring:\n",
    "        stack.push(char)\n",
    "    out = \"\"\n",
    "    while not stack.is_empty():\n",
    "        out += stack.pop()\n",
    "    return out  "
   ]
  },
  {
   "cell_type": "code",
   "execution_count": 6,
   "id": "318bb318-c7f9-40a1-9733-fcd6bb2e5476",
   "metadata": {},
   "outputs": [
    {
     "ename": "NameError",
     "evalue": "name 'StackII' is not defined",
     "output_type": "error",
     "traceback": [
      "\u001b[31m---------------------------------------------------------------------------\u001b[39m",
      "\u001b[31mNameError\u001b[39m                                 Traceback (most recent call last)",
      "\u001b[36mCell\u001b[39m\u001b[36m \u001b[39m\u001b[32mIn[6]\u001b[39m\u001b[32m, line 1\u001b[39m\n\u001b[32m----> \u001b[39m\u001b[32m1\u001b[39m \u001b[43minvert_str\u001b[49m\u001b[43m(\u001b[49m\u001b[33;43m\"\u001b[39;49m\u001b[33;43m1110000\u001b[39;49m\u001b[33;43m\"\u001b[39;49m\u001b[43m)\u001b[49m\n",
      "\u001b[36mCell\u001b[39m\u001b[36m \u001b[39m\u001b[32mIn[4]\u001b[39m\u001b[32m, line 20\u001b[39m, in \u001b[36minvert_str\u001b[39m\u001b[34m(mystring)\u001b[39m\n\u001b[32m     19\u001b[39m \u001b[38;5;28;01mdef\u001b[39;00m\u001b[38;5;250m \u001b[39m\u001b[34minvert_str\u001b[39m(mystring):\n\u001b[32m---> \u001b[39m\u001b[32m20\u001b[39m     stack = \u001b[43mStackII\u001b[49m()\n\u001b[32m     21\u001b[39m     \u001b[38;5;28;01mfor\u001b[39;00m char \u001b[38;5;129;01min\u001b[39;00m mystring:\n\u001b[32m     22\u001b[39m         stack.push(char)\n",
      "\u001b[31mNameError\u001b[39m: name 'StackII' is not defined"
     ]
    }
   ],
   "source": [
    "invert_str(\"1110000\")"
   ]
  },
  {
   "cell_type": "markdown",
   "id": "95db8284-368e-43db-aa8e-82e4133a6628",
   "metadata": {},
   "source": [
    "# Homework assignment:\n",
    "\n",
    "Design and implement the \"from scratch\" version of 'Queue' as 'QueueII'. This should not rely on any built-ins and should be able to add and remove data from opposite ends of queue. The worst case time complexity of the enqueue and dequeue methods should be 0(1).\n",
    "\n",
    "Test your soultion by validating that continuity is kept. "
   ]
  },
  {
   "cell_type": "code",
   "execution_count": null,
   "id": "fa9d9af3-08cf-4135-9a8d-ec624298c4d7",
   "metadata": {},
   "outputs": [],
   "source": [
    "# From Scratch implementation of QueueII\n",
    "\n",
    "class QueueII:\n",
    "    class__Node:\n",
    "        def __init__ (self, datum):\n",
    "            self.data = datum\n",
    "            self.next = None\n",
    "            \n",
    "    def __init__(self):\n",
    "        self.back = None\n",
    "        self.back = None\n",
    "\n",
    "    def enqueue(self, element):\n",
    "        pass\n",
    "\n",
    "    def dequeue(self):\n",
    "        pass\n",
    "\n",
    "    # Nice to have methodsS\n",
    "    def peek(self):\n",
    "        pass\n",
    "\n",
    "    def size(self):\n",
    "        pass\n",
    "\n",
    "    def is_empty(self):\n",
    "        pass\n",
    "        "
   ]
  },
  {
   "cell_type": "code",
   "execution_count": 2,
   "id": "e63f0d8b-6c13-446b-bcf9-88044ad0cc53",
   "metadata": {},
   "outputs": [
    {
     "ename": "IndentationError",
     "evalue": "unexpected indent (3750888933.py, line 3)",
     "output_type": "error",
     "traceback": [
      "  \u001b[36mCell\u001b[39m\u001b[36m \u001b[39m\u001b[32mIn[2]\u001b[39m\u001b[32m, line 3\u001b[39m\n\u001b[31m    \u001b[39m\u001b[31mFor i in range (1, n+1):\u001b[39m\n    ^\n\u001b[31mIndentationError\u001b[39m\u001b[31m:\u001b[39m unexpected indent\n"
     ]
    }
   ],
   "source": [
    "def fizzbuzz(n):\n",
    "   output = []\n",
    "    for i in range (1, n+1):\n",
    "        s = \"\"\n",
    "        if (i % 3) == 0:\n",
    "            s = s + \"Fizz\"\n",
    "        if (1 % 5) == 0:\n",
    "            s = s + \"Buzz\" \n",
    "        if s == \"\":\n",
    "            s = s + str(i)\n",
    "            \n",
    "        output.append(s)\n",
    "        \n",
    "    return output"
   ]
  },
  {
   "cell_type": "code",
   "execution_count": null,
   "id": "8a9d42fd-b0ed-4925-898f-7b3a605c8372",
   "metadata": {},
   "outputs": [],
   "source": []
  }
 ],
 "metadata": {
  "kernelspec": {
   "display_name": "Python 3 (ipykernel)",
   "language": "python",
   "name": "python3"
  },
  "language_info": {
   "codemirror_mode": {
    "name": "ipython",
    "version": 3
   },
   "file_extension": ".py",
   "mimetype": "text/x-python",
   "name": "python",
   "nbconvert_exporter": "python",
   "pygments_lexer": "ipython3",
   "version": "3.12.3"
  }
 },
 "nbformat": 4,
 "nbformat_minor": 5
}
