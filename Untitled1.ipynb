{
 "cells": [
  {
   "cell_type": "code",
   "execution_count": 1,
   "id": "1f2ef20a-22da-46e6-8c47-a9308bd91b99",
   "metadata": {},
   "outputs": [],
   "source": [
    "# extra assignment"
   ]
  },
  {
   "cell_type": "code",
   "execution_count": null,
   "id": "194bc705-ccb5-4834-b5d3-5bbe45042f9b",
   "metadata": {},
   "outputs": [],
   "source": [
    "class Soltion:\n",
    "    def fizzBuzz(self, n: int) -> List(str):\n",
    "\n",
    "        "
   ]
  }
 ],
 "metadata": {
  "kernelspec": {
   "display_name": "Python 3 (ipykernel)",
   "language": "python",
   "name": "python3"
  },
  "language_info": {
   "codemirror_mode": {
    "name": "ipython",
    "version": 3
   },
   "file_extension": ".py",
   "mimetype": "text/x-python",
   "name": "python",
   "nbconvert_exporter": "python",
   "pygments_lexer": "ipython3",
   "version": "3.12.3"
  }
 },
 "nbformat": 4,
 "nbformat_minor": 5
}
